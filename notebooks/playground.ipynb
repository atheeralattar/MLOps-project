{
 "cells": [
  {
   "cell_type": "code",
   "execution_count": 159,
   "metadata": {},
   "outputs": [
    {
     "name": "stdout",
     "output_type": "stream",
     "text": [
      "The autoreload extension is already loaded. To reload it, use:\n",
      "  %reload_ext autoreload\n"
     ]
    }
   ],
   "source": [
    "\n",
    "import sys\n",
    "sys.dont_write_bytecode = True\n",
    "import pandas as pd\n",
    "%load_ext autoreload\n",
    "%autoreload 2\n",
    "import os\n",
    "os.chdir('../')"
   ]
  },
  {
   "cell_type": "code",
   "execution_count": 3,
   "metadata": {},
   "outputs": [],
   "source": [
    "import mlflow\n",
    "mlflow.set_tracking_uri('http://0.0.0.0:5000')"
   ]
  },
  {
   "cell_type": "code",
   "execution_count": 13,
   "metadata": {},
   "outputs": [
    {
     "data": {
      "text/plain": [
       "<Popen: returncode: None args: ['mlflow', 'models', 'serve', '-m', 'models:/...>"
      ]
     },
     "execution_count": 13,
     "metadata": {},
     "output_type": "execute_result"
    },
    {
     "name": "stderr",
     "output_type": "stream",
     "text": [
      "Traceback (most recent call last):\n",
      "  File \"/home/atheer/miniconda3/envs/mlops-project/bin/mlflow\", line 8, in <module>\n",
      "    sys.exit(cli())\n",
      "  File \"/home/atheer/miniconda3/envs/mlops-project/lib/python3.10/site-packages/click/core.py\", line 1157, in __call__\n",
      "    return self.main(*args, **kwargs)\n",
      "  File \"/home/atheer/miniconda3/envs/mlops-project/lib/python3.10/site-packages/click/core.py\", line 1078, in main\n",
      "    rv = self.invoke(ctx)\n",
      "  File \"/home/atheer/miniconda3/envs/mlops-project/lib/python3.10/site-packages/click/core.py\", line 1688, in invoke\n",
      "    return _process_result(sub_ctx.command.invoke(sub_ctx))\n",
      "  File \"/home/atheer/miniconda3/envs/mlops-project/lib/python3.10/site-packages/click/core.py\", line 1688, in invoke\n",
      "    return _process_result(sub_ctx.command.invoke(sub_ctx))\n",
      "  File \"/home/atheer/miniconda3/envs/mlops-project/lib/python3.10/site-packages/click/core.py\", line 1434, in invoke\n",
      "    return ctx.invoke(self.callback, **ctx.params)\n",
      "  File \"/home/atheer/miniconda3/envs/mlops-project/lib/python3.10/site-packages/click/core.py\", line 783, in invoke\n",
      "    return __callback(*args, **kwargs)\n",
      "  File \"/home/atheer/miniconda3/envs/mlops-project/lib/python3.10/site-packages/mlflow/models/cli.py\", line 103, in serve\n",
      "    return get_flavor_backend(\n",
      "  File \"/home/atheer/miniconda3/envs/mlops-project/lib/python3.10/site-packages/mlflow/models/flavor_backend_registry.py\", line 43, in get_flavor_backend\n",
      "    artifact_repo = get_artifact_repository(root_uri)\n",
      "  File \"/home/atheer/miniconda3/envs/mlops-project/lib/python3.10/site-packages/mlflow/store/artifact/artifact_repository_registry.py\", line 124, in get_artifact_repository\n",
      "    return _artifact_repository_registry.get_artifact_repository(artifact_uri)\n",
      "  File \"/home/atheer/miniconda3/envs/mlops-project/lib/python3.10/site-packages/mlflow/store/artifact/artifact_repository_registry.py\", line 77, in get_artifact_repository\n",
      "    return repository(artifact_uri)\n",
      "  File \"/home/atheer/miniconda3/envs/mlops-project/lib/python3.10/site-packages/mlflow/store/artifact/models_artifact_repo.py\", line 59, in __init__\n",
      "    ) = ModelsArtifactRepository._get_model_uri_infos(artifact_uri)\n",
      "  File \"/home/atheer/miniconda3/envs/mlops-project/lib/python3.10/site-packages/mlflow/store/artifact/models_artifact_repo.py\", line 94, in _get_model_uri_infos\n",
      "    download_uri = client.get_model_version_download_uri(name, version)\n",
      "  File \"/home/atheer/miniconda3/envs/mlops-project/lib/python3.10/site-packages/mlflow/tracking/client.py\", line 4144, in get_model_version_download_uri\n",
      "    return self._get_registry_client().get_model_version_download_uri(name, version)\n",
      "  File \"/home/atheer/miniconda3/envs/mlops-project/lib/python3.10/site-packages/mlflow/tracking/_model_registry/client.py\", line 316, in get_model_version_download_uri\n",
      "    return self.store.get_model_version_download_uri(name, version)\n",
      "  File \"/home/atheer/miniconda3/envs/mlops-project/lib/python3.10/site-packages/mlflow/store/model_registry/file_store.py\", line 823, in get_model_version_download_uri\n",
      "    model_version = self._fetch_file_model_version_if_exists(name, version)\n",
      "  File \"/home/atheer/miniconda3/envs/mlops-project/lib/python3.10/site-packages/mlflow/store/model_registry/file_store.py\", line 783, in _fetch_file_model_version_if_exists\n",
      "    registered_model_version_dir = self._get_model_version_dir(name, version)\n",
      "  File \"/home/atheer/miniconda3/envs/mlops-project/lib/python3.10/site-packages/mlflow/store/model_registry/file_store.py\", line 561, in _get_model_version_dir\n",
      "    raise MlflowException(\n",
      "mlflow.exceptions.MlflowException: Registered Model with name=LinearRegression5 not found\n"
     ]
    }
   ],
   "source": [
    "import mlflow\n",
    "import subprocess\n",
    "subprocess.Popen([\"mlflow\", \"models\", \"serve\", \"-m\", \"models:/LinearRegression5/1\", \"-p\", \"5000\"])\n"
   ]
  },
  {
   "cell_type": "code",
   "execution_count": 157,
   "metadata": {},
   "outputs": [],
   "source": [
    "from mlops.tracking.mlflow import *"
   ]
  },
  {
   "cell_type": "code",
   "execution_count": 7,
   "metadata": {},
   "outputs": [],
   "source": [
    "from mlflow import MlflowClient\n",
    "client = MlflowClient()"
   ]
  },
  {
   "cell_type": "code",
   "execution_count": 8,
   "metadata": {},
   "outputs": [],
   "source": [
    "for exp in client.search_experiments():\n",
    "    client.delete_experiment(exp.experiment_id)"
   ]
  },
  {
   "cell_type": "code",
   "execution_count": 6,
   "metadata": {},
   "outputs": [
    {
     "data": {
      "text/plain": [
       "<Experiment: artifact_location='mlflow-artifacts:/4', creation_time=1722575820594, experiment_id='4', last_update_time=1722575820594, lifecycle_stage='active', name='RandomForestRegressor', tags={}>"
      ]
     },
     "execution_count": 6,
     "metadata": {},
     "output_type": "execute_result"
    }
   ],
   "source": [
    "mlflow.set_tracking_uri('http://0.0.0.0:5000')\n",
    "mlflow.search_experiments()[0]"
   ]
  },
  {
   "cell_type": "code",
   "execution_count": 148,
   "metadata": {},
   "outputs": [
    {
     "data": {
      "text/plain": [
       "'Ridge'"
      ]
     },
     "execution_count": 148,
     "metadata": {},
     "output_type": "execute_result"
    }
   ],
   "source": [
    "exp.name"
   ]
  },
  {
   "cell_type": "code",
   "execution_count": 161,
   "metadata": {},
   "outputs": [
    {
     "name": "stderr",
     "output_type": "stream",
     "text": [
      "/home/atheer/Desktop/mlops-project/notebooks/../mlops/tracking/mlflow.py:79: FutureWarning: ``mlflow.tracking.client.MlflowClient.get_latest_versions`` is deprecated since 2.9.0. Model registry stages will be removed in a future major release. To learn more about the deprecation of model registry stages, see our migration guide here: https://mlflow.org/docs/latest/model-registry.html#migrating-from-stages\n",
      "  latest_version = client.get_latest_versions(model_name, stages=[\"None\"])[0]\n",
      "Registered model 'Ridge' already exists. Creating a new version of this model...\n",
      "2024/08/01 14:25:14 INFO mlflow.store.model_registry.abstract_store: Waiting up to 300 seconds for model version to finish creation. Model name: Ridge, version 2\n"
     ]
    },
    {
     "name": "stdout",
     "output_type": "stream",
     "text": [
      "registered models: ['Lasso', 'Ridge'],           exp. name: Ridge\n"
     ]
    },
    {
     "name": "stderr",
     "output_type": "stream",
     "text": [
      "Created version '2' of model 'Ridge'.\n"
     ]
    }
   ],
   "source": [
    "check_registry_if_not_exist(exp)"
   ]
  }
 ],
 "metadata": {
  "kernelspec": {
   "display_name": "mlops-project",
   "language": "python",
   "name": "python3"
  },
  "language_info": {
   "codemirror_mode": {
    "name": "ipython",
    "version": 3
   },
   "file_extension": ".py",
   "mimetype": "text/x-python",
   "name": "python",
   "nbconvert_exporter": "python",
   "pygments_lexer": "ipython3",
   "version": "3.10.14"
  }
 },
 "nbformat": 4,
 "nbformat_minor": 2
}
