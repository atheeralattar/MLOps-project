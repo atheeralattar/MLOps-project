{
 "cells": [
  {
   "cell_type": "code",
   "execution_count": null,
   "metadata": {},
   "outputs": [],
   "source": [
    "\n",
    "import sys\n",
    "sys.dont_write_bytecode = True\n",
    "import pandas as pd\n",
    "%load_ext autoreload\n",
    "%autoreload 2\n"
   ]
  },
  {
   "cell_type": "code",
   "execution_count": null,
   "metadata": {},
   "outputs": [],
   "source": []
  },
  {
   "cell_type": "code",
   "execution_count": null,
   "metadata": {},
   "outputs": [],
   "source": [
    "df = full_data_loader('../dataset/itineraries_small.csv')"
   ]
  },
  {
   "cell_type": "code",
   "execution_count": null,
   "metadata": {},
   "outputs": [],
   "source": [
    "df = data_prep(df, columns_path,distance_matrix)"
   ]
  },
  {
   "cell_type": "code",
   "execution_count": null,
   "metadata": {},
   "outputs": [],
   "source": [
    "df_small = pd.read_csv(\"../dataset/df_ready_3000.csv\")"
   ]
  },
  {
   "cell_type": "code",
   "execution_count": null,
   "metadata": {},
   "outputs": [],
   "source": [
    "tracking_uri = 'http://0.0.0.0:5000'\n",
    "exp_name = 'mlflow_logging'\n",
    "train(df_small,tracking_uri, exp_name)"
   ]
  },
  {
   "cell_type": "code",
   "execution_count": null,
   "metadata": {},
   "outputs": [],
   "source": [
    "import importlib\n",
    "\n",
    "# Define the list of classes you want to import\n",
    "sklearn_linear_model_imports = [\n",
    "    'LinearRegression',\n",
    "    'LogisticRegression',\n",
    "    'Ridge',\n",
    "    'Lasso'\n",
    "]\n",
    "\n",
    "# Function to dynamically import classes\n",
    "def import_sklearn_classes(class_names):\n",
    "    module = importlib.import_module('sklearn.linear_model')\n",
    "    return {name: getattr(module, name) for name in class_names}\n",
    "\n",
    "# Import the classes\n",
    "imported_classes = import_sklearn_classes(sklearn_linear_model_imports)\n",
    "\n",
    "# Now you can use the imported classes\n",
    "for class_name, class_ref in imported_classes.items():\n",
    "    print(f\"Imported {class_name}: {class_ref}\")\n",
    "\n",
    "# Example usage\n",
    "linear_regression = imported_classes['LinearRegression']()\n",
    "print(f\"Created LinearRegression model: {linear_regression}\")"
   ]
  },
  {
   "cell_type": "code",
   "execution_count": null,
   "metadata": {},
   "outputs": [],
   "source": [
    "linear_regression"
   ]
  },
  {
   "cell_type": "code",
   "execution_count": 91,
   "metadata": {},
   "outputs": [
    {
     "name": "stdout",
     "output_type": "stream",
     "text": [
      "The autoreload extension is already loaded. To reload it, use:\n",
      "  %reload_ext autoreload\n"
     ]
    }
   ],
   "source": [
    "import sys\n",
    "sys.path.append('..')\n",
    "sys.dont_write_bytecode = True\n",
    "import pandas as pd\n",
    "%load_ext autoreload\n",
    "%autoreload 2\n",
    "from mlops.tracking.mlflow import *\n",
    "\n"
   ]
  },
  {
   "cell_type": "code",
   "execution_count": 3,
   "metadata": {},
   "outputs": [],
   "source": [
    "mlflow.set_tracking_uri('http://0.0.0.0:5000')\n",
    "experiments = mlflow.search_experiments()"
   ]
  },
  {
   "cell_type": "code",
   "execution_count": 92,
   "metadata": {},
   "outputs": [
    {
     "name": "stdout",
     "output_type": "stream",
     "text": [
      "c1661f3cb5c6460ba435315b3033f757\n",
      "6a0f11eaf46843a78011e26b29c90b6f\n",
      "d2eeed76fc124a1baf2eca237c0e8fa6\n",
      "eefd9e8a065d4351a0a73692714bce69\n"
     ]
    }
   ],
   "source": [
    "x = []\n",
    "for exp in experiments:\n",
    "    print(pick_top_run(exp,'r2_test'))"
   ]
  },
  {
   "cell_type": "code",
   "execution_count": 101,
   "metadata": {},
   "outputs": [
    {
     "data": {
      "text/plain": [
       "<RegisteredModel: aliases={}, creation_timestamp=1722487251129, description='', last_updated_timestamp=1722490129399, latest_versions=[<ModelVersion: aliases=[], creation_timestamp=1722490129399, current_stage='None', description='', last_updated_timestamp=1722490129399, name='lasso', run_id='eefd9e8a065d4351a0a73692714bce69', run_link='', source='mlflow-artifacts:/0/eefd9e8a065d4351a0a73692714bce69/artifacts/model', status='READY', status_message='', tags={}, user_id='', version='4'>], name='lasso', tags={}>"
      ]
     },
     "execution_count": 101,
     "metadata": {},
     "output_type": "execute_result"
    }
   ],
   "source": [
    "client.get_registered_model('lasso')"
   ]
  },
  {
   "cell_type": "code",
   "execution_count": 102,
   "metadata": {},
   "outputs": [],
   "source": [
    "def get_model_info(model_name, metric_name='r2_test'):\n",
    "    try:\n",
    "        # Get the latest version of the model\n",
    "        latest_version = client.get_latest_versions(model_name, stages=[\"None\"])[0]\n",
    "        \n",
    "        # Get the run ID associated with this model version\n",
    "        run_id = latest_version.run_id\n",
    "        \n",
    "        # Fetch the run data\n",
    "        run = client.get_run(run_id)\n",
    "        \n",
    "        # Extract the desired metric\n",
    "        metric_value = run.data.metrics.get(metric_name)\n",
    "        \n",
    "        return {\n",
    "            \"model_name\": model_name,\n",
    "            \"version\": latest_version.version,\n",
    "            \"run_id\": run_id,\n",
    "            f\"{metric_name}\": metric_value\n",
    "        }\n",
    "    except Exception as e:\n",
    "        print(f\"Error getting info for model {model_name}: {str(e)}\")\n",
    "        return None"
   ]
  },
  {
   "cell_type": "code",
   "execution_count": 104,
   "metadata": {},
   "outputs": [
    {
     "name": "stderr",
     "output_type": "stream",
     "text": [
      "/tmp/ipykernel_522165/3311509924.py:4: FutureWarning: ``mlflow.tracking.client.MlflowClient.get_latest_versions`` is deprecated since 2.9.0. Model registry stages will be removed in a future major release. To learn more about the deprecation of model registry stages, see our migration guide here: https://mlflow.org/docs/latest/model-registry.html#migrating-from-stages\n",
      "  latest_version = client.get_latest_versions(model_name, stages=[\"None\"])[0]\n"
     ]
    },
    {
     "data": {
      "text/plain": [
       "0.4513684562233631"
      ]
     },
     "execution_count": 104,
     "metadata": {},
     "output_type": "execute_result"
    }
   ],
   "source": [
    "get_model_info('lasso')['r2_test']"
   ]
  },
  {
   "cell_type": "code",
   "execution_count": 95,
   "metadata": {},
   "outputs": [
    {
     "name": "stderr",
     "output_type": "stream",
     "text": [
      "Registered model 'lasso' already exists. Creating a new version of this model...\n",
      "2024/08/01 00:28:49 INFO mlflow.store.model_registry.abstract_store: Waiting up to 300 seconds for model version to finish creation. Model name: lasso, version 4\n",
      "Created version '4' of model 'lasso'.\n"
     ]
    },
    {
     "data": {
      "text/plain": [
       "<ModelVersion: aliases=[], creation_timestamp=1722490129399, current_stage='None', description='', last_updated_timestamp=1722490129399, name='lasso', run_id='eefd9e8a065d4351a0a73692714bce69', run_link='', source='mlflow-artifacts:/0/eefd9e8a065d4351a0a73692714bce69/artifacts/model', status='READY', status_message='', tags={}, user_id='', version='4'>"
      ]
     },
     "execution_count": 95,
     "metadata": {},
     "output_type": "execute_result"
    }
   ],
   "source": [
    "run_id = \"eefd9e8a065d4351a0a73692714bce69\"\n",
    "model_uri = f\"runs:/{run_id}/model\"\n",
    "mlflow.register_model(model_uri=model_uri, name=\"lasso\")"
   ]
  },
  {
   "cell_type": "code",
   "execution_count": 76,
   "metadata": {},
   "outputs": [
    {
     "ename": "AttributeError",
     "evalue": "'list' object has no attribute 'name'",
     "output_type": "error",
     "traceback": [
      "\u001b[0;31m---------------------------------------------------------------------------\u001b[0m",
      "\u001b[0;31mAttributeError\u001b[0m                            Traceback (most recent call last)",
      "Cell \u001b[0;32mIn[76], line 1\u001b[0m\n\u001b[0;32m----> 1\u001b[0m \u001b[43mmlflow\u001b[49m\u001b[38;5;241;43m.\u001b[39;49m\u001b[43msearch_registered_models\u001b[49m\u001b[43m(\u001b[49m\u001b[43m)\u001b[49m\u001b[38;5;241;43m.\u001b[39;49m\u001b[43mname\u001b[49m\n",
      "\u001b[0;31mAttributeError\u001b[0m: 'list' object has no attribute 'name'"
     ]
    }
   ],
   "source": [
    "mlflow.search_registered_models().name"
   ]
  },
  {
   "cell_type": "code",
   "execution_count": 75,
   "metadata": {},
   "outputs": [
    {
     "data": {
      "text/plain": [
       "1722320653302"
      ]
     },
     "execution_count": 75,
     "metadata": {},
     "output_type": "execute_result"
    }
   ],
   "source": [
    "exp.creation_time"
   ]
  },
  {
   "cell_type": "code",
   "execution_count": 42,
   "metadata": {},
   "outputs": [],
   "source": [
    "client = MlflowClient()\n",
    "from mlflow.entities import ViewType\n",
    "\n",
    "runs = client.search_runs(\n",
    "    experiment_ids='0',\n",
    "    run_view_type=ViewType.ACTIVE_ONLY,\n",
    "    max_results=5,\n",
    "    \n",
    ")"
   ]
  },
  {
   "cell_type": "code",
   "execution_count": 50,
   "metadata": {},
   "outputs": [
    {
     "data": {
      "text/plain": [
       "'eefd9e8a065d4351a0a73692714bce69'"
      ]
     },
     "execution_count": 50,
     "metadata": {},
     "output_type": "execute_result"
    }
   ],
   "source": []
  },
  {
   "cell_type": "code",
   "execution_count": 46,
   "metadata": {},
   "outputs": [
    {
     "name": "stdout",
     "output_type": "stream",
     "text": [
      "<Run: data=<RunData: metrics={'r2_test': 0.4513684562233631,\n",
      " 'training_mean_absolute_error': 102.36906912682669,\n",
      " 'training_mean_squared_error': 19521.735150272423,\n",
      " 'training_r2_score': 0.44606154087631233,\n",
      " 'training_root_mean_squared_error': 139.72020308556822,\n",
      " 'training_score': 0.44606154087631233}, params={'alpha': '1.0',\n",
      " 'copy_X': 'True',\n",
      " 'data size': '(800, 10)',\n",
      " 'features': '[\"startingAirport\", \"destinationAirport\", \"isBasicEconomy\", '\n",
      "             '\"isRefundable\", \"isNonStop\", \"departure_hour\", \"departure_day\", '\n",
      "             '\"departure_month\", \"days_to_departure\", \"DISTANCE\"]',\n",
      " 'fit_intercept': 'True',\n",
      " 'max_iter': '1000',\n",
      " 'positive': 'False',\n",
      " 'precompute': 'False',\n",
      " 'random_state': 'None',\n",
      " 'selection': 'cyclic',\n",
      " 'tol': '0.0001',\n",
      " 'warm_start': 'False'}, tags={'estimator_class': 'sklearn.linear_model._coordinate_descent.Lasso',\n",
      " 'estimator_name': 'Lasso',\n",
      " 'mlflow.log-model.history': '[{\"run_id\": \"eefd9e8a065d4351a0a73692714bce69\", '\n",
      "                             '\"artifact_path\": \"model\", \"utc_time_created\": '\n",
      "                             '\"2024-08-01 03:25:53.815407\", \"flavors\": '\n",
      "                             '{\"python_function\": {\"model_path\": \"model.pkl\", '\n",
      "                             '\"predict_fn\": \"predict\", \"loader_module\": '\n",
      "                             '\"mlflow.sklearn\", \"python_version\": \"3.10.14\", '\n",
      "                             '\"env\": {\"conda\": \"conda.yaml\", \"virtualenv\": '\n",
      "                             '\"python_env.yaml\"}}, \"sklearn\": '\n",
      "                             '{\"pickled_model\": \"model.pkl\", '\n",
      "                             '\"sklearn_version\": \"1.5.0\", '\n",
      "                             '\"serialization_format\": \"cloudpickle\", \"code\": '\n",
      "                             'null}}, \"model_uuid\": '\n",
      "                             '\"aa4ff194f13f4aba92871347061a6257\", '\n",
      "                             '\"mlflow_version\": \"2.15.0\", \"signature\": '\n",
      "                             '{\"inputs\": \"[{\\\\\"type\\\\\": \\\\\"tensor\\\\\", '\n",
      "                             '\\\\\"tensor-spec\\\\\": {\\\\\"dtype\\\\\": \\\\\"float64\\\\\", '\n",
      "                             '\\\\\"shape\\\\\": [-1, 46]}}]\", \"outputs\": '\n",
      "                             '\"[{\\\\\"type\\\\\": \\\\\"tensor\\\\\", \\\\\"tensor-spec\\\\\": '\n",
      "                             '{\\\\\"dtype\\\\\": \\\\\"float64\\\\\", \\\\\"shape\\\\\": '\n",
      "                             '[-1]}}]\", \"params\": null}, \"model_size_bytes\": '\n",
      "                             '889}]',\n",
      " 'mlflow.runName': 'amusing-duck-909',\n",
      " 'mlflow.source.name': '/usr/local/lib/python3.10/site-packages/ipykernel_launcher.py',\n",
      " 'mlflow.source.type': 'LOCAL',\n",
      " 'mlflow.user': 'root',\n",
      " 'model': 'Lasso'}>, info=<RunInfo: artifact_uri='mlflow-artifacts:/0/eefd9e8a065d4351a0a73692714bce69/artifacts', end_time=1722482756866, experiment_id='0', lifecycle_stage='active', run_id='eefd9e8a065d4351a0a73692714bce69', run_name='amusing-duck-909', run_uuid='eefd9e8a065d4351a0a73692714bce69', start_time=1722482753442, status='FINISHED', user_id='root'>, inputs=<RunInputs: dataset_inputs=[<DatasetInput: dataset=<Dataset: digest='ae304b79', name='dataset', profile=('{\"features_shape\": [800, 46], \"features_size\": 36800, \"features_nbytes\": '\n",
      " '294400, \"targets_shape\": [800], \"targets_size\": 800, \"targets_nbytes\": 6400}'), schema=('{\"mlflow_tensorspec\": {\"features\": \"[{\\\\\"type\\\\\": \\\\\"tensor\\\\\", '\n",
      " '\\\\\"tensor-spec\\\\\": {\\\\\"dtype\\\\\": \\\\\"float64\\\\\", \\\\\"shape\\\\\": [-1, 46]}}]\", '\n",
      " '\"targets\": \"[{\\\\\"type\\\\\": \\\\\"tensor\\\\\", \\\\\"tensor-spec\\\\\": {\\\\\"dtype\\\\\": '\n",
      " '\\\\\"float64\\\\\", \\\\\"shape\\\\\": [-1]}}]\"}}'), source=('{\"tags\": {\"mlflow.user\": \"root\", \"mlflow.source.name\": '\n",
      " '\"/usr/local/lib/python3.10/site-packages/ipykernel_launcher.py\", '\n",
      " '\"mlflow.source.type\": \"LOCAL\"}}'), source_type='code'>, tags=[<InputTag: key='mlflow.data.context', value='train'>]>,\n",
      " <DatasetInput: dataset=<Dataset: digest='94315bca', name='dataset', profile='{\"features_shape\": [200, 46], \"features_size\": 9200, \"features_nbytes\": 73600}', schema=('{\"mlflow_tensorspec\": {\"features\": \"[{\\\\\"type\\\\\": \\\\\"tensor\\\\\", '\n",
      " '\\\\\"tensor-spec\\\\\": {\\\\\"dtype\\\\\": \\\\\"float64\\\\\", \\\\\"shape\\\\\": [-1, 46]}}]\", '\n",
      " '\"targets\": null}}'), source=('{\"tags\": {\"mlflow.user\": \"root\", \"mlflow.source.name\": '\n",
      " '\"/usr/local/lib/python3.10/site-packages/ipykernel_launcher.py\", '\n",
      " '\"mlflow.source.type\": \"LOCAL\"}}'), source_type='code'>, tags=[<InputTag: key='mlflow.data.context', value='eval'>]>,\n",
      " <DatasetInput: dataset=<Dataset: digest='d2f2210d', name='dataset', profile=('{\"features_shape\": [800, 46], \"features_size\": 36800, \"features_nbytes\": '\n",
      " '294400}'), schema=('{\"mlflow_tensorspec\": {\"features\": \"[{\\\\\"type\\\\\": \\\\\"tensor\\\\\", '\n",
      " '\\\\\"tensor-spec\\\\\": {\\\\\"dtype\\\\\": \\\\\"float64\\\\\", \\\\\"shape\\\\\": [-1, 46]}}]\", '\n",
      " '\"targets\": null}}'), source=('{\"tags\": {\"mlflow.user\": \"root\", \"mlflow.source.name\": '\n",
      " '\"/usr/local/lib/python3.10/site-packages/ipykernel_launcher.py\", '\n",
      " '\"mlflow.source.type\": \"LOCAL\"}}'), source_type='code'>, tags=[<InputTag: key='mlflow.data.context', value='eval'>]>]>>\n",
      "run id: eefd9e8a065d4351a0a73692714bce69\n",
      "<Run: data=<RunData: metrics={'r2_test': 0.4513684562233631,\n",
      " 'training_mean_absolute_error': 102.36906912682669,\n",
      " 'training_mean_squared_error': 19521.735150272423,\n",
      " 'training_r2_score': 0.44606154087631233,\n",
      " 'training_root_mean_squared_error': 139.72020308556822,\n",
      " 'training_score': 0.44606154087631233}, params={'alpha': '1.0',\n",
      " 'copy_X': 'True',\n",
      " 'data size': '(800, 10)',\n",
      " 'features': '[\"startingAirport\", \"destinationAirport\", \"isBasicEconomy\", '\n",
      "             '\"isRefundable\", \"isNonStop\", \"departure_hour\", \"departure_day\", '\n",
      "             '\"departure_month\", \"days_to_departure\", \"DISTANCE\"]',\n",
      " 'fit_intercept': 'True',\n",
      " 'max_iter': '1000',\n",
      " 'positive': 'False',\n",
      " 'precompute': 'False',\n",
      " 'random_state': 'None',\n",
      " 'selection': 'cyclic',\n",
      " 'tol': '0.0001',\n",
      " 'warm_start': 'False'}, tags={'estimator_class': 'sklearn.linear_model._coordinate_descent.Lasso',\n",
      " 'estimator_name': 'Lasso',\n",
      " 'mlflow.log-model.history': '[{\"run_id\": \"d520ad0aab004de5a8d8900f489a66cd\", '\n",
      "                             '\"artifact_path\": \"model\", \"utc_time_created\": '\n",
      "                             '\"2024-08-01 03:24:43.724038\", \"flavors\": '\n",
      "                             '{\"python_function\": {\"model_path\": \"model.pkl\", '\n",
      "                             '\"predict_fn\": \"predict\", \"loader_module\": '\n",
      "                             '\"mlflow.sklearn\", \"python_version\": \"3.10.14\", '\n",
      "                             '\"env\": {\"conda\": \"conda.yaml\", \"virtualenv\": '\n",
      "                             '\"python_env.yaml\"}}, \"sklearn\": '\n",
      "                             '{\"pickled_model\": \"model.pkl\", '\n",
      "                             '\"sklearn_version\": \"1.5.0\", '\n",
      "                             '\"serialization_format\": \"cloudpickle\", \"code\": '\n",
      "                             'null}}, \"model_uuid\": '\n",
      "                             '\"960ea6c873744facb6f935e93128f238\", '\n",
      "                             '\"mlflow_version\": \"2.15.0\", \"signature\": '\n",
      "                             '{\"inputs\": \"[{\\\\\"type\\\\\": \\\\\"tensor\\\\\", '\n",
      "                             '\\\\\"tensor-spec\\\\\": {\\\\\"dtype\\\\\": \\\\\"float64\\\\\", '\n",
      "                             '\\\\\"shape\\\\\": [-1, 46]}}]\", \"outputs\": '\n",
      "                             '\"[{\\\\\"type\\\\\": \\\\\"tensor\\\\\", \\\\\"tensor-spec\\\\\": '\n",
      "                             '{\\\\\"dtype\\\\\": \\\\\"float64\\\\\", \\\\\"shape\\\\\": '\n",
      "                             '[-1]}}]\", \"params\": null}, \"model_size_bytes\": '\n",
      "                             '889}]',\n",
      " 'mlflow.runName': 'skittish-fowl-179',\n",
      " 'mlflow.source.name': '/usr/local/lib/python3.10/site-packages/ipykernel_launcher.py',\n",
      " 'mlflow.source.type': 'LOCAL',\n",
      " 'mlflow.user': 'root',\n",
      " 'model': 'Lasso'}>, info=<RunInfo: artifact_uri='mlflow-artifacts:/0/d520ad0aab004de5a8d8900f489a66cd/artifacts', end_time=1722482687925, experiment_id='0', lifecycle_stage='active', run_id='d520ad0aab004de5a8d8900f489a66cd', run_name='skittish-fowl-179', run_uuid='d520ad0aab004de5a8d8900f489a66cd', start_time=1722482683360, status='FINISHED', user_id='root'>, inputs=<RunInputs: dataset_inputs=[<DatasetInput: dataset=<Dataset: digest='ae304b79', name='dataset', profile=('{\"features_shape\": [800, 46], \"features_size\": 36800, \"features_nbytes\": '\n",
      " '294400, \"targets_shape\": [800], \"targets_size\": 800, \"targets_nbytes\": 6400}'), schema=('{\"mlflow_tensorspec\": {\"features\": \"[{\\\\\"type\\\\\": \\\\\"tensor\\\\\", '\n",
      " '\\\\\"tensor-spec\\\\\": {\\\\\"dtype\\\\\": \\\\\"float64\\\\\", \\\\\"shape\\\\\": [-1, 46]}}]\", '\n",
      " '\"targets\": \"[{\\\\\"type\\\\\": \\\\\"tensor\\\\\", \\\\\"tensor-spec\\\\\": {\\\\\"dtype\\\\\": '\n",
      " '\\\\\"float64\\\\\", \\\\\"shape\\\\\": [-1]}}]\"}}'), source=('{\"tags\": {\"mlflow.user\": \"root\", \"mlflow.source.name\": '\n",
      " '\"/usr/local/lib/python3.10/site-packages/ipykernel_launcher.py\", '\n",
      " '\"mlflow.source.type\": \"LOCAL\"}}'), source_type='code'>, tags=[<InputTag: key='mlflow.data.context', value='train'>]>,\n",
      " <DatasetInput: dataset=<Dataset: digest='94315bca', name='dataset', profile='{\"features_shape\": [200, 46], \"features_size\": 9200, \"features_nbytes\": 73600}', schema=('{\"mlflow_tensorspec\": {\"features\": \"[{\\\\\"type\\\\\": \\\\\"tensor\\\\\", '\n",
      " '\\\\\"tensor-spec\\\\\": {\\\\\"dtype\\\\\": \\\\\"float64\\\\\", \\\\\"shape\\\\\": [-1, 46]}}]\", '\n",
      " '\"targets\": null}}'), source=('{\"tags\": {\"mlflow.user\": \"root\", \"mlflow.source.name\": '\n",
      " '\"/usr/local/lib/python3.10/site-packages/ipykernel_launcher.py\", '\n",
      " '\"mlflow.source.type\": \"LOCAL\"}}'), source_type='code'>, tags=[<InputTag: key='mlflow.data.context', value='eval'>]>,\n",
      " <DatasetInput: dataset=<Dataset: digest='d2f2210d', name='dataset', profile=('{\"features_shape\": [800, 46], \"features_size\": 36800, \"features_nbytes\": '\n",
      " '294400}'), schema=('{\"mlflow_tensorspec\": {\"features\": \"[{\\\\\"type\\\\\": \\\\\"tensor\\\\\", '\n",
      " '\\\\\"tensor-spec\\\\\": {\\\\\"dtype\\\\\": \\\\\"float64\\\\\", \\\\\"shape\\\\\": [-1, 46]}}]\", '\n",
      " '\"targets\": null}}'), source=('{\"tags\": {\"mlflow.user\": \"root\", \"mlflow.source.name\": '\n",
      " '\"/usr/local/lib/python3.10/site-packages/ipykernel_launcher.py\", '\n",
      " '\"mlflow.source.type\": \"LOCAL\"}}'), source_type='code'>, tags=[<InputTag: key='mlflow.data.context', value='eval'>]>]>>\n",
      "run id: d520ad0aab004de5a8d8900f489a66cd\n"
     ]
    }
   ],
   "source": [
    "for run in runs:\n",
    "    print(run)\n",
    "    print(f\"run id: {run.info.run_id}\")\n"
   ]
  },
  {
   "cell_type": "markdown",
   "metadata": {},
   "source": []
  },
  {
   "cell_type": "code",
   "execution_count": null,
   "metadata": {},
   "outputs": [],
   "source": [
    "exp_name ='mlflow_testing'"
   ]
  },
  {
   "cell_type": "code",
   "execution_count": null,
   "metadata": {},
   "outputs": [],
   "source": [
    "from mlflow import MlflowClient\n",
    "import mlflow"
   ]
  },
  {
   "cell_type": "code",
   "execution_count": null,
   "metadata": {},
   "outputs": [],
   "source": [
    "from mlops.tracking import *"
   ]
  },
  {
   "cell_type": "code",
   "execution_count": null,
   "metadata": {},
   "outputs": [],
   "source": []
  },
  {
   "cell_type": "code",
   "execution_count": null,
   "metadata": {},
   "outputs": [],
   "source": [
    "mlflow.set_tracking_uri(\"http://0.0.0.0:5000\")\n",
    "mlflow.set_experiment('Lasson')\n"
   ]
  },
  {
   "cell_type": "code",
   "execution_count": null,
   "metadata": {},
   "outputs": [],
   "source": [
    "mlflow.set_experiment(experiment_name=experiment_name)"
   ]
  },
  {
   "cell_type": "code",
   "execution_count": null,
   "metadata": {},
   "outputs": [],
   "source": []
  },
  {
   "cell_type": "code",
   "execution_count": null,
   "metadata": {},
   "outputs": [],
   "source": [
    "from mlflow.tracking import MlflowClient\n",
    "client = MlflowClient()\n",
    "experiments = client.search_experiments()\n",
    "for exp in experiments:\n",
    "    print(exp.experiment_id, exp.name)\n",
    "    print(mlflow.search_runs(exp.experiment_id))\n"
   ]
  },
  {
   "cell_type": "code",
   "execution_count": null,
   "metadata": {},
   "outputs": [],
   "source": [
    "client = MlflowClient(tracking_uri=uri)"
   ]
  },
  {
   "cell_type": "code",
   "execution_count": null,
   "metadata": {},
   "outputs": [],
   "source": [
    "runs = client.search_runs(experiment_id)\n",
    "for run in runs:\n",
    "    run\n",
    "    print(run.info.run_id, run.info.status)"
   ]
  },
  {
   "cell_type": "code",
   "execution_count": null,
   "metadata": {},
   "outputs": [],
   "source": [
    "run_id = client.search_runs(experiment_ids='0')[0].info.run_id"
   ]
  },
  {
   "cell_type": "code",
   "execution_count": null,
   "metadata": {},
   "outputs": [],
   "source": [
    "runs"
   ]
  },
  {
   "cell_type": "code",
   "execution_count": null,
   "metadata": {},
   "outputs": [],
   "source": [
    "\n",
    "experiment = mlflow.get_experiment_by_name(exp_name)\n",
    "\n",
    "if experiment is None:\n",
    "    experiment_id = mlflow.create_experiment(exp_name)\n",
    "else:\n",
    "    experiment_id = experiment.experiment_id\n",
    "\n",
    "# # Query all runs in the experiment\n",
    "runs = mlflow.search_runs(experiment_ids=[experiment_id])a\n",
    "\n",
    "# # Sort the runs by R2 test score and select the top three\n",
    "# # Assuming the metric is named 'r2_test'\n",
    "#top_runs = runs.sort_values(\"metrics.r2_test\", ascending=False).head(3)\n",
    "\n",
    "# # Define the names for the top 3 models\n",
    "#top_model_names = [\"Top_Model_1\", \"Top_Model_2\", \"Top_Model_3\"]\n",
    "\n",
    "# for index, (_, run) in enumerate(top_runs.iterrows()):\n",
    "#     run_id = run.run_id\n",
    "#     r2_score = run.metrics[\"r2_test\"]\n",
    "#     model_name = top_model_names[index]\n",
    "    \n",
    "#     # Load the model from the run\n",
    "#     model_uri = f\"runs:/{run_id}/model\"\n",
    "    \n",
    "#     # Check if the model already exists\n",
    "#     try:\n",
    "#         existing_versions = client.get_latest_versions(model_name)\n",
    "#     except mlflow.exceptions.RestException:\n",
    "#         existing_versions = []\n",
    "    \n",
    "#     if existing_versions:\n",
    "#         # If the model exists, create a new version\n",
    "#         model_version = mlflow.register_model(model_uri, model_name)\n",
    "#         print(f\"Created new version of existing model: {model_name}, version: {model_version.version}, R2 score: {r2_score}\")\n",
    "#     else:\n",
    "#         # If the model doesn't exist, register it\n",
    "#         model_version = mlflow.register_model(model_uri, model_name)\n",
    "#         print(f\"Registered new model: {model_name}, version: {model_version.version}, R2 score: {r2_score}\")\n",
    "    \n",
    "#     # Update the model description\n",
    "#     client.update_registered_model(\n",
    "#         name=model_name,\n",
    "#         description=f\"Model with R2 test score: {r2_score}\"\n",
    "#     )\n",
    "    \n",
    "#     # Add tags to the model version\n",
    "#     client.set_model_version_tag(\n",
    "#         name=model_name,\n",
    "#         version=model_version.version,\n",
    "#         key=\"r2_test_score\",\n",
    "#         value=str(r2_score)\n",
    "#     )\n",
    "    \n",
    "#     # Transition the model to 'Production' stage\n",
    "#     client.transition_model_version_stage(\n",
    "#         name=model_name,\n",
    "#         version=model_version.version,\n",
    "#         stage=\"Production\"\n",
    "#     )\n",
    "    \n",
    "#     # Archive older versions\n",
    "#     for old_version in existing_versions:\n",
    "#         if old_version.version != model_version.version:\n",
    "#             client.transition_model_version_stage(\n",
    "#                 name=model_name,\n",
    "#                 version=old_version.version,\n",
    "#                 stage=\"Archived\"\n",
    "#             )\n",
    "\n",
    "# print(\"Top 3 models have been updated and registered.\")\n"
   ]
  }
 ],
 "metadata": {
  "kernelspec": {
   "display_name": "mlops-project",
   "language": "python",
   "name": "python3"
  },
  "language_info": {
   "codemirror_mode": {
    "name": "ipython",
    "version": 3
   },
   "file_extension": ".py",
   "mimetype": "text/x-python",
   "name": "python",
   "nbconvert_exporter": "python",
   "pygments_lexer": "ipython3",
   "version": "3.10.14"
  }
 },
 "nbformat": 4,
 "nbformat_minor": 2
}
